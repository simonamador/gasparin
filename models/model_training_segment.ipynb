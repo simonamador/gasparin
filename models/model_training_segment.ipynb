{
  "cells": [
    {
      "cell_type": "code",
      "execution_count": null,
      "metadata": {
        "colab": {
          "base_uri": "https://localhost:8080/"
        },
        "id": "8MpR_1-n8DPf",
        "outputId": "b1b9c196-4334-4c90-cf40-896a5a88163b"
      },
      "outputs": [],
      "source": [
        "!pip install -q pytorch-tabnet\n",
        "!pip install ultralytics\n",
        "!pip install matplotlib\n",
        "\n",
        "import torch\n",
        "from IPython import display\n",
        "import ultralytics\n",
        "\n",
        "display.clear_output()\n",
        "\n",
        "ultralytics.checks()\n",
        "\n",
        "DEVICE = 'cuda' if torch.cuda.is_available() else 'cpu'\n",
        "print(\"Using {}\".format(DEVICE))"
      ]
    },
    {
      "cell_type": "code",
      "execution_count": null,
      "metadata": {
        "colab": {
          "base_uri": "https://localhost:8080/"
        },
        "id": "PBUNCn6ymQA-",
        "outputId": "01553428-993f-4d42-f205-4bf8e2fb1dc8"
      },
      "outputs": [],
      "source": [
        "from google.colab import drive\n",
        "drive.mount('/content/drive/')\n",
        "PATH = 'path'\n",
        "run_name = \"run_name\""
      ]
    },
    {
      "cell_type": "code",
      "execution_count": null,
      "metadata": {
        "colab": {
          "base_uri": "https://localhost:8080/"
        },
        "id": "RktmKj8M4m3e",
        "outputId": "df163987-5985-43f4-c358-f80b24177329"
      },
      "outputs": [],
      "source": [
        "%cd {PATH}\n",
        "!yolo task=segment mode=train model=yolov8m-seg.pt data={PATH}/data.yaml epochs=500 imgsz=640 plots=True name={run_name} device=0 patience=50 batch=16 exist_ok=True amp=False"
      ]
    }
  ],
  "metadata": {
    "accelerator": "GPU",
    "colab": {
      "gpuType": "A100",
      "provenance": []
    },
    "kernelspec": {
      "display_name": "Python 3",
      "name": "python3"
    },
    "language_info": {
      "name": "python"
    }
  },
  "nbformat": 4,
  "nbformat_minor": 0
}
