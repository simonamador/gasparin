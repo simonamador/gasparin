{
  "cells": [
    {
      "cell_type": "code",
      "execution_count": null,
      "metadata": {
        "colab": {
          "base_uri": "https://localhost:8080/"
        },
        "id": "tc6HKbQoHiAQ",
        "outputId": "b2c4c24a-1fae-401c-bc2b-9526750d653c"
      },
      "outputs": [],
      "source": [
        "import os\n",
        "HOME = os.getcwd()\n",
        "print(HOME)"
      ]
    },
    {
      "cell_type": "code",
      "execution_count": null,
      "metadata": {
        "colab": {
          "base_uri": "https://localhost:8080/"
        },
        "id": "jzNINQZSKtqJ",
        "outputId": "048b2447-ec7a-4f4b-c153-c527f31a7093"
      },
      "outputs": [],
      "source": [
        "!pip install ultralytics==8.0.196\n",
        "!pip install matplotlib\n",
        "\n",
        "from IPython import display\n",
        "display.clear_output()\n",
        "\n",
        "import ultralytics\n",
        "ultralytics.checks()"
      ]
    },
    {
      "cell_type": "code",
      "execution_count": null,
      "metadata": {
        "colab": {
          "base_uri": "https://localhost:8080/"
        },
        "id": "048Y9ZsBReVs",
        "outputId": "8c805c16-65ca-4fcf-c8ee-f1fd8bd547f4"
      },
      "outputs": [],
      "source": [
        "from google.colab import drive\n",
        "drive.mount('/content/drive/')"
      ]
    },
    {
      "cell_type": "code",
      "execution_count": null,
      "metadata": {
        "id": "kMxwqlhV6VRn"
      },
      "outputs": [],
      "source": [
        "PATH = 'project_path'\n",
        "run_name = 'run_name'\n",
        "model_used = 'model_name'\n",
        "\n",
        "project_path = 'project path'"
      ]
    },
    {
      "cell_type": "markdown",
      "metadata": {
        "id": "1_xZ8jLhh_xG"
      },
      "source": [
        "### Train model without changing hyperparameters"
      ]
    },
    {
      "cell_type": "code",
      "execution_count": null,
      "metadata": {
        "colab": {
          "background_save": true,
          "base_uri": "https://localhost:8080/"
        },
        "id": "1iCh6tPmTSF2",
        "outputId": "dc9bf435-2a7f-4079-9c3a-d8587970ab74"
      },
      "outputs": [],
      "source": [
        "%cd PATH\n",
        "!yolo task=detect mode=train model={model_used} data={PATH}/data.yaml epochs=500 imgsz=640 plots=True name = {run_name}"
      ]
    },
    {
      "cell_type": "markdown",
      "metadata": {
        "id": "eQ6Ir_JwiNP2"
      },
      "source": [
        "### Training with conceivable life sciences parameters"
      ]
    },
    {
      "cell_type": "code",
      "execution_count": null,
      "metadata": {
        "colab": {
          "base_uri": "https://localhost:8080/"
        },
        "id": "OdNG2fjuiM5M",
        "outputId": "4c541213-60f4-4029-b299-2d5dc5001c00"
      },
      "outputs": [],
      "source": [
        "%cd PATH\n",
        "!yolo task=detect mode=train model={model_used} data={PATH}/data.yaml epochs=500 imgsz=640 plots=True name={run_name} lr0=0.001 box=0.05 hsv_h=0.1 hsv_s=0.25 hsv_v=0.25 degrees=10 scale=0.4"
      ]
    },
    {
      "cell_type": "markdown",
      "metadata": {
        "id": "iS2G36ibJ-Jp"
      },
      "source": [
        "### Training with personal hyperparams"
      ]
    },
    {
      "cell_type": "code",
      "execution_count": null,
      "metadata": {
        "colab": {
          "base_uri": "https://localhost:8080/"
        },
        "id": "oluf70lyKDxD",
        "outputId": "93957efd-fbf5-431a-bcce-d400bd0ac476"
      },
      "outputs": [],
      "source": [
        "%cd PATH\n",
        "!yolo task=detect mode=train model={model_used} data={PATH}/data.yaml epochs=500 imgsz=640 plots=True name={run_name} lr0=0.002 lrf=0.002 box=0.1 kobj=1 hsv_h=0.15 hsv_s=0.3 hsv_v=0.3 degrees=15 scale=0.5"
      ]
    },
    {
      "cell_type": "markdown",
      "metadata": {
        "id": "8aCnid0mm3xP"
      },
      "source": [
        "### Training with parameters from literature"
      ]
    },
    {
      "cell_type": "code",
      "execution_count": null,
      "metadata": {
        "colab": {
          "base_uri": "https://localhost:8080/"
        },
        "id": "1Wtg6_Jwm-gz",
        "outputId": "20298fe9-9c7d-40ab-a64f-befdca2da21f"
      },
      "outputs": [],
      "source": [
        "%cd PATH\n",
        "!yolo task=detect mode=train model={model_used} data={PATH}/data.yaml plots=True name={run_name} batch=64 momentum=0.9 weight_decay=0.0005"
      ]
    },
    {
      "cell_type": "markdown",
      "metadata": {
        "id": "8mG5Gx6TR64f"
      },
      "source": [
        "## Testing model annotations"
      ]
    },
    {
      "cell_type": "code",
      "execution_count": null,
      "metadata": {
        "id": "EXiGpSpI0WRB"
      },
      "outputs": [],
      "source": [
        "PATH = 'validation_path'"
      ]
    },
    {
      "cell_type": "code",
      "execution_count": null,
      "metadata": {
        "colab": {
          "base_uri": "https://localhost:8080/",
          "height": 161
        },
        "id": "jKhv6Rsgi4XO",
        "outputId": "d1648110-e0c6-41d1-ea8d-3a29945b2336"
      },
      "outputs": [],
      "source": [
        "run_name = 'yolov8-v1.2'\n",
        "model_used = 'yolov8m.pt'"
      ]
    },
    {
      "cell_type": "markdown",
      "metadata": {},
      "source": [
        "# Testing YOLO Models visually"
      ]
    },
    {
      "cell_type": "code",
      "execution_count": null,
      "metadata": {
        "colab": {
          "base_uri": "https://localhost:8080/"
        },
        "id": "91x2vvCqesF1",
        "outputId": "362d0a5d-3b78-4538-e71e-c1ed71a29bc9"
      },
      "outputs": [],
      "source": [
        "from typing import FrozenSet\n",
        "from ultralytics import YOLO\n",
        "from PIL import Image\n",
        "import matplotlib.pyplot as plt\n",
        "import time\n",
        "\n",
        "video= 'videoname'\n",
        "img_path = 'path' + video + '.mp4'\n",
        "model_path = os.path.join(PATH, run_name, 'weights/last.pt')\n",
        "# Load a model\n",
        "model = YOLO(model_path)  # pretrained YOLOv8n model\n",
        "results = model.track(img_path, vid_stride=30, persist=True, tracker='tracker_path', show=True, conf=0.25, iou=0.7) #bytetrack.yaml, botsort\n",
        "fs = len(results)/350"
      ]
    },
    {
      "cell_type": "code",
      "execution_count": null,
      "metadata": {
        "colab": {
          "base_uri": "https://localhost:8080/"
        },
        "id": "TTmbmWFaQcGe",
        "outputId": "27830b77-e058-4487-e60a-53bebe75db25"
      },
      "outputs": [],
      "source": [
        "img_path = 'videopath'\n",
        "\n",
        "# Load a model\n",
        "model = YOLO('model_path')  # pretrained YOLOv8n model\n",
        "results = model.predict(img_path, vid_stride=20)\n",
        "fs = len(results)/132\n",
        "\n",
        "video = cv2.VideoWriter(img_path, cv2.VideoWriter_fourcc(*'MP4V'), int(fs), (1920,1080))\n",
        "\n",
        "for image in results:\n",
        "    im_bgr = image.plot()  # BGR-order numpy array\n",
        "    video.write(im_bgr[..., ::-1])\n",
        "\n",
        "video.release()\n",
        "cv2.destroyAllWindows()"
      ]
    }
  ],
  "metadata": {
    "accelerator": "GPU",
    "colab": {
      "gpuType": "A100",
      "provenance": []
    },
    "kernelspec": {
      "display_name": "Python 3",
      "name": "python3"
    },
    "language_info": {
      "name": "python"
    }
  },
  "nbformat": 4,
  "nbformat_minor": 0
}
